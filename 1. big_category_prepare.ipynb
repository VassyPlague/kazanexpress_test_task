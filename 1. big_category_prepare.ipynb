{
 "cells": [
  {
   "cell_type": "code",
   "execution_count": 1,
   "id": "cd5423bf",
   "metadata": {},
   "outputs": [],
   "source": [
    "import pandas as pd\n",
    "data = pd.read_parquet('../train.parquet').reset_index(drop = True)"
   ]
  },
  {
   "cell_type": "code",
   "execution_count": 2,
   "id": "fc1d39e4",
   "metadata": {},
   "outputs": [],
   "source": [
    "def clean_cat_name(corpus):\n",
    "    output = []\n",
    "    for i in corpus:\n",
    "        output.append(i[15:])\n",
    "    return output"
   ]
  },
  {
   "cell_type": "code",
   "execution_count": 3,
   "id": "26ab920c",
   "metadata": {},
   "outputs": [],
   "source": [
    "def category_extract(corpus):\n",
    "    \n",
    "    output_str = ''\n",
    "    output = []\n",
    "    lengths = []\n",
    "    \n",
    "    for text in corpus:\n",
    "        for i, ch in enumerate(text):\n",
    "            \n",
    "            if ch == '-' or ch == '>':\n",
    "                output.append(output_str)\n",
    "                lengths.append(i)\n",
    "                output_str = ''\n",
    "                break\n",
    "            output_str += ch\n",
    "            \n",
    "        if len(output_str) != 0 :\n",
    "            output.append(output_str)\n",
    "            lengths.append(i)\n",
    "            output_str = ''\n",
    "    return lengths"
   ]
  },
  {
   "cell_type": "code",
   "execution_count": 4,
   "id": "ad8f8e56",
   "metadata": {},
   "outputs": [],
   "source": [
    "data['category_name'] = clean_cat_name(data['category_name'])"
   ]
  },
  {
   "cell_type": "code",
   "execution_count": 5,
   "id": "19ea4b63",
   "metadata": {},
   "outputs": [
    {
     "name": "stderr",
     "output_type": "stream",
     "text": [
      "C:\\Users\\vnvof\\AppData\\Local\\Temp\\ipykernel_10032\\1535125288.py:5: SettingWithCopyWarning: \n",
      "A value is trying to be set on a copy of a slice from a DataFrame\n",
      "\n",
      "See the caveats in the documentation: https://pandas.pydata.org/pandas-docs/stable/user_guide/indexing.html#returning-a-view-versus-a-copy\n",
      "  data['category_name'].iloc[i] = data['category_name'].iloc[i][lengths[i]+2:]\n"
     ]
    }
   ],
   "source": [
    "lengths = category_extract(data['category_name'])\n",
    "cat_1 = []\n",
    "for i, text in enumerate(data['category_name']):\n",
    "    cat_1.append(data['category_name'].iloc[i][:lengths[i]])\n",
    "    data['category_name'].iloc[i] = data['category_name'].iloc[i][lengths[i]+2:]\n",
    "data['cat_1'] = cat_1"
   ]
  },
  {
   "cell_type": "code",
   "execution_count": 6,
   "id": "15d6dc34",
   "metadata": {},
   "outputs": [
    {
     "name": "stderr",
     "output_type": "stream",
     "text": [
      "C:\\Users\\vnvof\\AppData\\Local\\Temp\\ipykernel_10032\\1734958356.py:5: SettingWithCopyWarning: \n",
      "A value is trying to be set on a copy of a slice from a DataFrame\n",
      "\n",
      "See the caveats in the documentation: https://pandas.pydata.org/pandas-docs/stable/user_guide/indexing.html#returning-a-view-versus-a-copy\n",
      "  data['category_name'].iloc[i] = data['category_name'].iloc[i][lengths[i]+2:]\n"
     ]
    }
   ],
   "source": [
    "lengths = category_extract(data['category_name'])\n",
    "cat_2 = []\n",
    "for i, text in enumerate(data['category_name']):\n",
    "    cat_2.append(data['category_name'].iloc[i][:lengths[i]])\n",
    "    data['category_name'].iloc[i] = data['category_name'].iloc[i][lengths[i]+2:]\n",
    "data['cat_2'] = cat_2"
   ]
  },
  {
   "cell_type": "code",
   "execution_count": 9,
   "id": "8e98b740",
   "metadata": {},
   "outputs": [
    {
     "data": {
      "text/plain": [
       "73178"
      ]
     },
     "execution_count": 9,
     "metadata": {},
     "output_type": "execute_result"
    }
   ],
   "source": [
    "len(category_extract(data['category_name']))"
   ]
  },
  {
   "cell_type": "code",
   "execution_count": 7,
   "id": "062e0ebd",
   "metadata": {},
   "outputs": [
    {
     "name": "stderr",
     "output_type": "stream",
     "text": [
      "C:\\Users\\vnvof\\AppData\\Local\\Temp\\ipykernel_10032\\3091142056.py:5: SettingWithCopyWarning: \n",
      "A value is trying to be set on a copy of a slice from a DataFrame\n",
      "\n",
      "See the caveats in the documentation: https://pandas.pydata.org/pandas-docs/stable/user_guide/indexing.html#returning-a-view-versus-a-copy\n",
      "  data['category_name'].iloc[i] = data['category_name'].iloc[i][lengths[i]+2:]\n"
     ]
    },
    {
     "ename": "IndexError",
     "evalue": "list index out of range",
     "output_type": "error",
     "traceback": [
      "\u001b[1;31m---------------------------------------------------------------------------\u001b[0m",
      "\u001b[1;31mIndexError\u001b[0m                                Traceback (most recent call last)",
      "\u001b[1;32m~\\AppData\\Local\\Temp\\ipykernel_10032\\3091142056.py\u001b[0m in \u001b[0;36m<module>\u001b[1;34m\u001b[0m\n\u001b[0;32m      2\u001b[0m \u001b[0mcat_3\u001b[0m \u001b[1;33m=\u001b[0m \u001b[1;33m[\u001b[0m\u001b[1;33m]\u001b[0m\u001b[1;33m\u001b[0m\u001b[1;33m\u001b[0m\u001b[0m\n\u001b[0;32m      3\u001b[0m \u001b[1;32mfor\u001b[0m \u001b[0mi\u001b[0m\u001b[1;33m,\u001b[0m \u001b[0mtext\u001b[0m \u001b[1;32min\u001b[0m \u001b[0menumerate\u001b[0m\u001b[1;33m(\u001b[0m\u001b[0mdata\u001b[0m\u001b[1;33m[\u001b[0m\u001b[1;34m'category_name'\u001b[0m\u001b[1;33m]\u001b[0m\u001b[1;33m)\u001b[0m\u001b[1;33m:\u001b[0m\u001b[1;33m\u001b[0m\u001b[1;33m\u001b[0m\u001b[0m\n\u001b[1;32m----> 4\u001b[1;33m     \u001b[0mcat_3\u001b[0m\u001b[1;33m.\u001b[0m\u001b[0mappend\u001b[0m\u001b[1;33m(\u001b[0m\u001b[0mdata\u001b[0m\u001b[1;33m[\u001b[0m\u001b[1;34m'category_name'\u001b[0m\u001b[1;33m]\u001b[0m\u001b[1;33m.\u001b[0m\u001b[0miloc\u001b[0m\u001b[1;33m[\u001b[0m\u001b[0mi\u001b[0m\u001b[1;33m]\u001b[0m\u001b[1;33m[\u001b[0m\u001b[1;33m:\u001b[0m\u001b[0mlengths\u001b[0m\u001b[1;33m[\u001b[0m\u001b[0mi\u001b[0m\u001b[1;33m]\u001b[0m\u001b[1;33m]\u001b[0m\u001b[1;33m)\u001b[0m\u001b[1;33m\u001b[0m\u001b[1;33m\u001b[0m\u001b[0m\n\u001b[0m\u001b[0;32m      5\u001b[0m     \u001b[0mdata\u001b[0m\u001b[1;33m[\u001b[0m\u001b[1;34m'category_name'\u001b[0m\u001b[1;33m]\u001b[0m\u001b[1;33m.\u001b[0m\u001b[0miloc\u001b[0m\u001b[1;33m[\u001b[0m\u001b[0mi\u001b[0m\u001b[1;33m]\u001b[0m \u001b[1;33m=\u001b[0m \u001b[0mdata\u001b[0m\u001b[1;33m[\u001b[0m\u001b[1;34m'category_name'\u001b[0m\u001b[1;33m]\u001b[0m\u001b[1;33m.\u001b[0m\u001b[0miloc\u001b[0m\u001b[1;33m[\u001b[0m\u001b[0mi\u001b[0m\u001b[1;33m]\u001b[0m\u001b[1;33m[\u001b[0m\u001b[0mlengths\u001b[0m\u001b[1;33m[\u001b[0m\u001b[0mi\u001b[0m\u001b[1;33m]\u001b[0m\u001b[1;33m+\u001b[0m\u001b[1;36m2\u001b[0m\u001b[1;33m:\u001b[0m\u001b[1;33m]\u001b[0m\u001b[1;33m\u001b[0m\u001b[1;33m\u001b[0m\u001b[0m\n\u001b[0;32m      6\u001b[0m \u001b[0mdata\u001b[0m\u001b[1;33m[\u001b[0m\u001b[1;34m'cat_3'\u001b[0m\u001b[1;33m]\u001b[0m \u001b[1;33m=\u001b[0m \u001b[0mcat_3\u001b[0m\u001b[1;33m\u001b[0m\u001b[1;33m\u001b[0m\u001b[0m\n",
      "\u001b[1;31mIndexError\u001b[0m: list index out of range"
     ]
    }
   ],
   "source": [
    "lengths = category_extract(data['category_name'])\n",
    "cat_3 = []\n",
    "for i, text in enumerate(data['category_name']):\n",
    "    cat_3.append(data['category_name'].iloc[i][:lengths[i]])\n",
    "    data['category_name'].iloc[i] = data['category_name'].iloc[i][lengths[i]+2:]\n",
    "data['cat_3'] = cat_3"
   ]
  },
  {
   "cell_type": "code",
   "execution_count": null,
   "id": "cce3fef4",
   "metadata": {},
   "outputs": [],
   "source": [
    "data"
   ]
  },
  {
   "cell_type": "code",
   "execution_count": 8,
   "id": "2e589b85",
   "metadata": {},
   "outputs": [
    {
     "data": {
      "text/plain": [
       "Товары для дома       31912\n",
       "Электроника           26224\n",
       "Одежда                17010\n",
       "Хобби и творчество    14346\n",
       "Обувь                  1628\n",
       "Name: cat_1, dtype: int64"
      ]
     },
     "execution_count": 8,
     "metadata": {},
     "output_type": "execute_result"
    }
   ],
   "source": [
    "data['cat_1'].value_counts()"
   ]
  },
  {
   "cell_type": "code",
   "execution_count": 9,
   "id": "96833d41",
   "metadata": {},
   "outputs": [
    {
     "data": {
      "text/plain": [
       "Смартфоны и телефоны                      14685\n",
       "Товары для кухни                          11243\n",
       "Товары для праздников                      9655\n",
       "Женская одежда                             9396\n",
       "Рукоделие                                  6046\n",
       "Детская одежда                             4536\n",
       "Аксессуары для электроники                 3505\n",
       "Хозяйственные товары                       3452\n",
       "Декор и интерьер                           3416\n",
       "Мужская одежда                             2926\n",
       "Наушники и аудиотехника                    2650\n",
       "Текстиль                                   2061\n",
       "Компьютерная техника                       1733\n",
       "Создание картин, фоторамок, открыток       1692\n",
       "Рисование                                  1600\n",
       "Товары для курения                         1291\n",
       "Стикер                                     1168\n",
       "Хранение вещей                             1039\n",
       "Умные часы и фитнес браслеты                951\n",
       "Телевизоры и видеотехника                   844\n",
       "Женская обувь                               736\n",
       "Прочие хобби                                656\n",
       "Настольные и карточные игры                 621\n",
       "Пазлы, мозаика и фреска                     540\n",
       "Фото                                        511\n",
       "Товары для бани и сауны                     503\n",
       "Игровые приставки                           422\n",
       "Ноутбуки, планшеты и электронные книги      395\n",
       "Мужская обувь                               374\n",
       "Гадания и эзотерика                         360\n",
       "Аксессуары для обуви                        359\n",
       "Товары для комнатных растений               317\n",
       "Музыкальные инструменты                     282\n",
       "Мебель                                      226\n",
       "Сетевое оборудование                        164\n",
       "Спецодежда                                  152\n",
       "Офисная техника                             129\n",
       "Умный дом и безопасность                    129\n",
       "Обувь для девочек                            92\n",
       "Лепка                                        90\n",
       "Часы и электронные будильники                70\n",
       "Обувь для мальчиков                          67\n",
       "Квадрокоптеры и аксессуары                   18\n",
       "Оптические приборы                           11\n",
       "Навигаторы                                    7\n",
       "Name: cat_2, dtype: int64"
      ]
     },
     "execution_count": 9,
     "metadata": {},
     "output_type": "execute_result"
    }
   ],
   "source": [
    "data['cat_2'].value_counts()"
   ]
  },
  {
   "cell_type": "code",
   "execution_count": 11,
   "id": "8c15c845",
   "metadata": {},
   "outputs": [],
   "source": [
    "data.to_parquet('data_with_categories.parquet')"
   ]
  },
  {
   "cell_type": "code",
   "execution_count": null,
   "id": "0d2bca84",
   "metadata": {},
   "outputs": [],
   "source": []
  }
 ],
 "metadata": {
  "kernelspec": {
   "display_name": "Python 3 (ipykernel)",
   "language": "python",
   "name": "python3"
  },
  "language_info": {
   "codemirror_mode": {
    "name": "ipython",
    "version": 3
   },
   "file_extension": ".py",
   "mimetype": "text/x-python",
   "name": "python",
   "nbconvert_exporter": "python",
   "pygments_lexer": "ipython3",
   "version": "3.9.13"
  }
 },
 "nbformat": 4,
 "nbformat_minor": 5
}
